{
  "nbformat": 4,
  "nbformat_minor": 0,
  "metadata": {
    "colab": {
      "name": "TensorFlow.ipynb",
      "version": "0.3.2",
      "provenance": [],
      "include_colab_link": true
    },
    "kernelspec": {
      "name": "python3",
      "display_name": "Python 3"
    }
  },
  "cells": [
    {
      "cell_type": "markdown",
      "metadata": {
        "id": "view-in-github",
        "colab_type": "text"
      },
      "source": [
        "[View in Colaboratory](https://colab.research.google.com/github/hetsthr/Notebook/blob/master/TensorFlow.ipynb)"
      ]
    },
    {
      "metadata": {
        "id": "mVG14Q52WIBO",
        "colab_type": "text"
      },
      "cell_type": "markdown",
      "source": [
        "---\n",
        "###Introduction"
      ]
    },
    {
      "metadata": {
        "id": "Gn9MLLrdFbDa",
        "colab_type": "text"
      },
      "cell_type": "markdown",
      "source": [
        "---\n",
        "Basic Python Script"
      ]
    },
    {
      "metadata": {
        "id": "vO2l7qdkFQgG",
        "colab_type": "code",
        "colab": {
          "base_uri": "https://localhost:8080/",
          "height": 34
        },
        "outputId": "fe6502e2-9071-4b01-ba26-ccf52ae55b74"
      },
      "cell_type": "code",
      "source": [
        "x = 35\n",
        "y = x + 5\n",
        "print(y)"
      ],
      "execution_count": 2,
      "outputs": [
        {
          "output_type": "stream",
          "text": [
            "40\n"
          ],
          "name": "stdout"
        }
      ]
    },
    {
      "metadata": {
        "id": "YT1aTMl8GHQ5",
        "colab_type": "text"
      },
      "cell_type": "markdown",
      "source": [
        "It's TensorFlow equivalent:"
      ]
    },
    {
      "metadata": {
        "id": "OwOJt3JpFjL4",
        "colab_type": "code",
        "colab": {
          "base_uri": "https://localhost:8080/",
          "height": 34
        },
        "outputId": "fc9d9a96-31bb-45c8-e5d1-e03bd51e6ab6"
      },
      "cell_type": "code",
      "source": [
        "import tensorflow as tf\n",
        "\n",
        "x = tf.constant(35, name='x')\n",
        "y = tf.Variable(x + 5, name='y')\n",
        "\n",
        "print(y)"
      ],
      "execution_count": 3,
      "outputs": [
        {
          "output_type": "stream",
          "text": [
            "<tf.Variable 'y:0' shape=() dtype=int32_ref>\n"
          ],
          "name": "stdout"
        }
      ]
    },
    {
      "metadata": {
        "id": "noVx1piNGbY9",
        "colab_type": "text"
      },
      "cell_type": "markdown",
      "source": [
        "Here, the difference is that ```y``` isn't given the value of ```x + 5```, as in our previous program. Instead, it is effectively an equation that means \"when this variable is computed, take the value of ```x``` (as it is at that time) and add 5 to it.\"\n",
        "\n",
        "**The value of ```y``` is never computed in the above program.**"
      ]
    },
    {
      "metadata": {
        "id": "vyWaXLSBHHtW",
        "colab_type": "code",
        "colab": {
          "base_uri": "https://localhost:8080/",
          "height": 34
        },
        "outputId": "a7d38924-bdf8-4cd6-d9b0-1615338e4922"
      },
      "cell_type": "code",
      "source": [
        "import tensorflow as tf\n",
        "\n",
        "x = tf.constant(35, name='x')\n",
        "y = tf.Variable(x + 5, name='y')\n",
        "\n",
        "model = tf.global_variables_initializer()\n",
        "\n",
        "with tf.Session() as session:\n",
        "  session.run(model)\n",
        "  print(session.run(y))"
      ],
      "execution_count": 4,
      "outputs": [
        {
          "output_type": "stream",
          "text": [
            "40\n"
          ],
          "name": "stdout"
        }
      ]
    },
    {
      "metadata": {
        "id": "bBRP_GXbHeaa",
        "colab_type": "text"
      },
      "cell_type": "markdown",
      "source": [
        "This is what is happening in the above code:\n",
        "\n",
        "1. Import tensorflow module and call it ```tf```.\n",
        "\n",
        "2. Create a constant value called ```x```, and assign it the value ```35```.\n",
        "\n",
        "3. Create a Variable called ```y```, and define it as being the equation ```x + 5```.\n",
        "\n",
        "4. Initialize the variables with ```tf.global_variables_initializer()``` (further discussed in detail)\n",
        "\n",
        "5. Create a session for computing the values.\n",
        "\n",
        "6. Rin the model created in 4.\n",
        "\n",
        "7. Run just the variable ```y``` and ```print``` out its current value.\n",
        "\n",
        "--> In step 4. a graph is created of the dependencies between the variables. In this case, the variable ```y``` depends on the variable ```x```, and that value is transformed by adding 5 to it. But it is important to note that this value itsn't computed until step 7, upto then, only equations and relations are computed."
      ]
    },
    {
      "metadata": {
        "id": "xvs0AKrOJQJw",
        "colab_type": "text"
      },
      "cell_type": "markdown",
      "source": [
        "\n",
        "\n",
        "---\n",
        "\n",
        "### Problems\n",
        "\n",
        "\n",
        "\n"
      ]
    },
    {
      "metadata": {
        "id": "Ihabf8xNIzjt",
        "colab_type": "text"
      },
      "cell_type": "markdown",
      "source": [
        "**1.** Constants can also be arrays."
      ]
    },
    {
      "metadata": {
        "id": "tcPqfR5YIv2d",
        "colab_type": "code",
        "colab": {
          "base_uri": "https://localhost:8080/",
          "height": 34
        },
        "outputId": "c4c493bb-a7fb-4c43-c750-0214bbbfd98e"
      },
      "cell_type": "code",
      "source": [
        "import tensorflow as tf\n",
        "\n",
        "x = tf.constant([35, 40, 45], name='x')\n",
        "y = tf.Variable(x + 5, name='y')\n",
        "\n",
        "model = tf.global_variables_initializer()\n",
        "\n",
        "with tf.Session() as session:\n",
        "  session.run(model)\n",
        "  print(session.run(y))"
      ],
      "execution_count": 5,
      "outputs": [
        {
          "output_type": "stream",
          "text": [
            "[40 45 50]\n"
          ],
          "name": "stdout"
        }
      ]
    },
    {
      "metadata": {
        "id": "rmZcWzGxJZxC",
        "colab_type": "text"
      },
      "cell_type": "markdown",
      "source": [
        "**2.** Generate a NumPy array of 10,000 random numbers (called ```x```) and create a Variable storing the equation \n",
        "\n",
        "> ```y = 5x^2 - 3x + 15```"
      ]
    },
    {
      "metadata": {
        "id": "zy_gTjLGJ2HM",
        "colab_type": "code",
        "colab": {
          "base_uri": "https://localhost:8080/",
          "height": 34
        },
        "outputId": "4ea97d18-deaf-47f4-bcac-8bd369066b0c"
      },
      "cell_type": "code",
      "source": [
        "import numpy as np\n",
        "data = np.random.randint(1000, size=10000)\n",
        "\n",
        "import tensorflow as tf\n",
        "\n",
        "x = tf.constant(data, name='x')\n",
        "y = tf.Variable(5*(x**2) - 3*x + 15, name='y')\n",
        "\n",
        "model = tf.global_variables_initializer()\n",
        "\n",
        "with tf.Session() as session:\n",
        "  session.run(model)\n",
        "  print(session.run(y))"
      ],
      "execution_count": 7,
      "outputs": [
        {
          "output_type": "stream",
          "text": [
            "[4137785 3335009 3375969 ...   37599  607973  374573]\n"
          ],
          "name": "stdout"
        }
      ]
    },
    {
      "metadata": {
        "id": "BgoJmNygKvzK",
        "colab_type": "text"
      },
      "cell_type": "markdown",
      "source": [
        "We can also update Variables in loops, see the example below. Try to predict what it will do, and then run to check it."
      ]
    },
    {
      "metadata": {
        "id": "A4XfwU4GLFJO",
        "colab_type": "code",
        "colab": {
          "base_uri": "https://localhost:8080/",
          "height": 102
        },
        "outputId": "26447586-7ac7-42b2-9cb0-a030cb3cc25c"
      },
      "cell_type": "code",
      "source": [
        "import tensorflow as tf\n",
        "\n",
        "x = tf.Variable(0, name='x')\n",
        "\n",
        "model = tf.global_variables_initializer()\n",
        "\n",
        "with tf.Session() as session:\n",
        "  session.run(model)\n",
        "  for i in range(5):\n",
        "    x = x + 1\n",
        "    print(session.run(x))"
      ],
      "execution_count": 8,
      "outputs": [
        {
          "output_type": "stream",
          "text": [
            "1\n",
            "2\n",
            "3\n",
            "4\n",
            "5\n"
          ],
          "name": "stdout"
        }
      ]
    },
    {
      "metadata": {
        "id": "VYcN9Lc-Lc5_",
        "colab_type": "text"
      },
      "cell_type": "markdown",
      "source": [
        "**3.** Using the code from above programs, create a program that computes the \"rolling\" average of the follow line of code: ```np.random.randint(1000)```."
      ]
    },
    {
      "metadata": {
        "id": "Bh0Aby0wL6XS",
        "colab_type": "code",
        "colab": {
          "base_uri": "https://localhost:8080/",
          "height": 102
        },
        "outputId": "dba10bc3-6ed6-4138-e3fe-1c99eeb255de"
      },
      "cell_type": "code",
      "source": [
        "import numpy as np\n",
        "\n",
        "avg = tf.Variable(.0, name='avg')\n",
        "prev_avg = tf.Variable(.0, name='prev_avg')\n",
        "\n",
        "model = tf.global_variables_initializer()\n",
        "\n",
        "with tf.Session() as session:\n",
        "  session.run(model)\n",
        "  for i in range(5):\n",
        "    x = np.random.randint(1000)\n",
        "    avg = (prev_avg + x) / (i + 1)\n",
        "    prev_avg = avg\n",
        "    print(session.run(avg))"
      ],
      "execution_count": 35,
      "outputs": [
        {
          "output_type": "stream",
          "text": [
            "688.0\n",
            "487.0\n",
            "232.0\n",
            "58.0\n",
            "38.8\n"
          ],
          "name": "stdout"
        }
      ]
    },
    {
      "metadata": {
        "id": "xKEWuim6T__l",
        "colab_type": "code",
        "colab": {
          "base_uri": "https://localhost:8080/",
          "height": 51
        },
        "outputId": "9b43d0cb-9a22-47c8-b976-fd4db178c14c"
      },
      "cell_type": "code",
      "source": [
        "import tensorflow as tf\n",
        "\n",
        "x = tf.constant(35, name='x')\n",
        "print(x)\n",
        "y = tf.Variable(x + 5, name='y')\n",
        "\n",
        "with tf.Session() as session:\n",
        "  merged = tf.summary.merge_all()\n",
        "  writer = tf.summary.FileWriter(\"/tmp/basic\", session.graph)\n",
        "  model = tf.global_variables_initializer()\n",
        "  session.run(model)\n",
        "  print(session.run(y))"
      ],
      "execution_count": 36,
      "outputs": [
        {
          "output_type": "stream",
          "text": [
            "Tensor(\"x_8:0\", shape=(), dtype=int32)\n",
            "40\n"
          ],
          "name": "stdout"
        }
      ]
    }
  ]
}